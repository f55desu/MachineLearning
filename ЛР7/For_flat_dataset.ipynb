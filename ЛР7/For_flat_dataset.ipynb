{
 "cells": [
  {
   "cell_type": "code",
   "execution_count": 62,
   "metadata": {
    "colab": {},
    "colab_type": "code",
    "id": "ig5nLDGXnPkI"
   },
   "outputs": [],
   "source": [
    "#Loading\n",
    "import numpy as np\n",
    "import pandas as pd\n",
    "from sklearn.utils import shuffle\n",
    "#Modeling\n",
    "from sklearn.model_selection import KFold, cross_val_score, train_test_split, cross_validate\n",
    "from sklearn.linear_model import LinearRegression\n",
    "from sklearn.metrics import r2_score, mean_squared_error\n",
    "#Visual\n",
    "import matplotlib.pyplot as plt\n",
    "import seaborn as sns\n",
    "#For TfIdf\n",
    "from scipy.sparse import csr_matrix, hstack, vstack\n",
    "from sklearn.feature_extraction.text import TfidfVectorizer\n",
    "import scipy"
   ]
  },
  {
   "cell_type": "code",
   "execution_count": 63,
   "metadata": {
    "colab": {},
    "colab_type": "code",
    "id": "T2gqY5mA9bdR"
   },
   "outputs": [],
   "source": [
    "df = pd.read_csv('..\\data\\piter_filtered.csv')"
   ]
  },
  {
   "cell_type": "code",
   "execution_count": 64,
   "metadata": {},
   "outputs": [],
   "source": [
    "def get_one_hot(df, cols):\n",
    "  df = pd.get_dummies(data = df, columns = cols)\n",
    "  print (\"\\nOne_hot for : {} done.\".format(cols))\n",
    "\n",
    "  return df"
   ]
  },
  {
   "cell_type": "code",
   "execution_count": 65,
   "metadata": {},
   "outputs": [],
   "source": [
    "def prepare_data(data):\n",
    "  data.drop(['City', 'Floor/Total floors', 'Link', 'Seller', 'Address'], axis = 1, inplace = True)#'Material' 'Address','Seller',\n",
    "  y = data['Price']\n",
    "  data.drop('Price', axis = 1, inplace = True)\n",
    "\n",
    "  return data, y"
   ]
  },
  {
   "cell_type": "code",
   "execution_count": 66,
   "metadata": {},
   "outputs": [
    {
     "data": {
      "text/html": [
       "<div>\n",
       "<style scoped>\n",
       "    .dataframe tbody tr th:only-of-type {\n",
       "        vertical-align: middle;\n",
       "    }\n",
       "\n",
       "    .dataframe tbody tr th {\n",
       "        vertical-align: top;\n",
       "    }\n",
       "\n",
       "    .dataframe thead th {\n",
       "        text-align: right;\n",
       "    }\n",
       "</style>\n",
       "<table border=\"1\" class=\"dataframe\">\n",
       "  <thead>\n",
       "    <tr style=\"text-align: right;\">\n",
       "      <th></th>\n",
       "      <th>Latitude</th>\n",
       "      <th>Longitude</th>\n",
       "      <th>City</th>\n",
       "      <th>Area</th>\n",
       "      <th>Address</th>\n",
       "      <th>Rooms</th>\n",
       "      <th>Floor/Total floors</th>\n",
       "      <th>Material</th>\n",
       "      <th>Total area</th>\n",
       "      <th>Live area</th>\n",
       "      <th>Kitchen</th>\n",
       "      <th>Toilet type</th>\n",
       "      <th>Price</th>\n",
       "      <th>Link</th>\n",
       "      <th>Seller</th>\n",
       "      <th>Comment</th>\n",
       "    </tr>\n",
       "  </thead>\n",
       "  <tbody>\n",
       "    <tr>\n",
       "      <th>0</th>\n",
       "      <td>59.911448</td>\n",
       "      <td>30.308232</td>\n",
       "      <td>Санкт-Петербург</td>\n",
       "      <td>Адмиралтейский район</td>\n",
       "      <td>Измайловский пр. 16</td>\n",
       "      <td>1</td>\n",
       "      <td>4/7</td>\n",
       "      <td>СФ</td>\n",
       "      <td>28.8</td>\n",
       "      <td>19.3</td>\n",
       "      <td>3.0</td>\n",
       "      <td>Р</td>\n",
       "      <td>2750</td>\n",
       "      <td>http://www.bn.ru/detail/flats/1133049.html</td>\n",
       "      <td>АН Панорама</td>\n",
       "      <td>доля, торг, ОС в коммун. кв</td>\n",
       "    </tr>\n",
       "  </tbody>\n",
       "</table>\n",
       "</div>"
      ],
      "text/plain": [
       "    Latitude  Longitude             City                  Area  \\\n",
       "0  59.911448  30.308232  Санкт-Петербург  Адмиралтейский район   \n",
       "\n",
       "               Address  Rooms Floor/Total floors Material  Total area  \\\n",
       "0  Измайловский пр. 16      1                4/7       СФ        28.8   \n",
       "\n",
       "   Live area  Kitchen Toilet type  Price  \\\n",
       "0       19.3      3.0           Р   2750   \n",
       "\n",
       "                                         Link       Seller  \\\n",
       "0  http://www.bn.ru/detail/flats/1133049.html  АН Панорама   \n",
       "\n",
       "                       Comment  \n",
       "0  доля, торг, ОС в коммун. кв  "
      ]
     },
     "execution_count": 66,
     "metadata": {},
     "output_type": "execute_result"
    }
   ],
   "source": [
    "df.head(1)"
   ]
  },
  {
   "cell_type": "code",
   "execution_count": 67,
   "metadata": {},
   "outputs": [
    {
     "name": "stdout",
     "output_type": "stream",
     "text": [
      "\n",
      "One_hot for : ['Material', 'Area', 'Toilet type'] done.\n"
     ]
    }
   ],
   "source": [
    "cols = ['Material', 'Area', 'Toilet type']\n",
    "df = get_one_hot(df, cols)"
   ]
  },
  {
   "cell_type": "code",
   "execution_count": 68,
   "metadata": {},
   "outputs": [
    {
     "data": {
      "text/html": [
       "<div>\n",
       "<style scoped>\n",
       "    .dataframe tbody tr th:only-of-type {\n",
       "        vertical-align: middle;\n",
       "    }\n",
       "\n",
       "    .dataframe tbody tr th {\n",
       "        vertical-align: top;\n",
       "    }\n",
       "\n",
       "    .dataframe thead th {\n",
       "        text-align: right;\n",
       "    }\n",
       "</style>\n",
       "<table border=\"1\" class=\"dataframe\">\n",
       "  <thead>\n",
       "    <tr style=\"text-align: right;\">\n",
       "      <th></th>\n",
       "      <th>Latitude</th>\n",
       "      <th>Longitude</th>\n",
       "      <th>City</th>\n",
       "      <th>Address</th>\n",
       "      <th>Rooms</th>\n",
       "      <th>Floor/Total floors</th>\n",
       "      <th>Total area</th>\n",
       "      <th>Live area</th>\n",
       "      <th>Kitchen</th>\n",
       "      <th>Price</th>\n",
       "      <th>...</th>\n",
       "      <th>Area_Центральный район</th>\n",
       "      <th>Toilet type_2</th>\n",
       "      <th>Toilet type_3</th>\n",
       "      <th>Toilet type_</th>\n",
       "      <th>Toilet type_Б/В</th>\n",
       "      <th>Toilet type_В/К</th>\n",
       "      <th>Toilet type_Д</th>\n",
       "      <th>Toilet type_Д/К</th>\n",
       "      <th>Toilet type_Р</th>\n",
       "      <th>Toilet type_С</th>\n",
       "    </tr>\n",
       "  </thead>\n",
       "  <tbody>\n",
       "    <tr>\n",
       "      <th>0</th>\n",
       "      <td>59.911448</td>\n",
       "      <td>30.308232</td>\n",
       "      <td>Санкт-Петербург</td>\n",
       "      <td>Измайловский пр. 16</td>\n",
       "      <td>1</td>\n",
       "      <td>4/7</td>\n",
       "      <td>28.8</td>\n",
       "      <td>19.3</td>\n",
       "      <td>3.0</td>\n",
       "      <td>2750</td>\n",
       "      <td>...</td>\n",
       "      <td>0</td>\n",
       "      <td>0</td>\n",
       "      <td>0</td>\n",
       "      <td>0</td>\n",
       "      <td>0</td>\n",
       "      <td>0</td>\n",
       "      <td>0</td>\n",
       "      <td>0</td>\n",
       "      <td>1</td>\n",
       "      <td>0</td>\n",
       "    </tr>\n",
       "  </tbody>\n",
       "</table>\n",
       "<p>1 rows × 70 columns</p>\n",
       "</div>"
      ],
      "text/plain": [
       "    Latitude  Longitude             City              Address  Rooms  \\\n",
       "0  59.911448  30.308232  Санкт-Петербург  Измайловский пр. 16      1   \n",
       "\n",
       "  Floor/Total floors  Total area  Live area  Kitchen  Price  ...  \\\n",
       "0                4/7        28.8       19.3      3.0   2750  ...   \n",
       "\n",
       "  Area_Центральный район Toilet type_2 Toilet type_3  Toilet type_   \\\n",
       "0                      0             0             0              0   \n",
       "\n",
       "   Toilet type_Б/В  Toilet type_В/К  Toilet type_Д  Toilet type_Д/К  \\\n",
       "0                0                0              0                0   \n",
       "\n",
       "   Toilet type_Р  Toilet type_С  \n",
       "0              1              0  \n",
       "\n",
       "[1 rows x 70 columns]"
      ]
     },
     "execution_count": 68,
     "metadata": {},
     "output_type": "execute_result"
    }
   ],
   "source": [
    "df.head(1)"
   ]
  },
  {
   "cell_type": "code",
   "execution_count": 69,
   "metadata": {},
   "outputs": [],
   "source": [
    "df, y = prepare_data(df)"
   ]
  },
  {
   "cell_type": "markdown",
   "metadata": {},
   "source": [
    "## Анализ"
   ]
  },
  {
   "cell_type": "code",
   "execution_count": 70,
   "metadata": {},
   "outputs": [
    {
     "data": {
      "image/png": "[encoded data removed]",
      "text/plain": [
       "<Figure size 432x288 with 1 Axes>"
      ]
     },
     "metadata": {
      "needs_background": "light"
     },
     "output_type": "display_data"
    }
   ],
   "source": [
    "ax1 = df[df['Latitude']>58].plot.scatter(x='Live area',\n",
    "                      y='Rooms',\n",
    "                      c='DarkBlue')"
   ]
  },
  {
   "cell_type": "markdown",
   "metadata": {},
   "source": [
    "## Работа с комментариями"
   ]
  },
  {
   "cell_type": "code",
   "execution_count": 71,
   "metadata": {},
   "outputs": [],
   "source": [
    "def get_tfidf(str_for_train, ngram_min=1, ngram_max=2, max_feats=150):\n",
    "  tfidf = TfidfVectorizer(ngram_range = (ngram_min, ngram_max), max_features = max_feats).fit(str_for_train)\n",
    "  data_tfidf = tfidf.transform(np.array(str_for_train))\n",
    "  return data_tfidf"
   ]
  },
  {
   "cell_type": "code",
   "execution_count": 72,
   "metadata": {},
   "outputs": [],
   "source": [
    "comments = [''.join(row) for row in df['Comment']]"
   ]
  },
  {
   "cell_type": "code",
   "execution_count": 73,
   "metadata": {},
   "outputs": [],
   "source": [
    "df.drop(['Comment'], axis = 1, inplace = True)"
   ]
  },
  {
   "cell_type": "code",
   "execution_count": 74,
   "metadata": {},
   "outputs": [
    {
     "data": {
      "text/plain": [
       "(6212, 63)"
      ]
     },
     "execution_count": 74,
     "metadata": {},
     "output_type": "execute_result"
    }
   ],
   "source": [
    "df.shape"
   ]
  },
  {
   "cell_type": "code",
   "execution_count": 75,
   "metadata": {},
   "outputs": [],
   "source": [
    "df = hstack((df, \n",
    "            get_tfidf(comments, 1, 2, 150)))"
   ]
  },
  {
   "cell_type": "code",
   "execution_count": 76,
   "metadata": {},
   "outputs": [
    {
     "data": {
      "text/plain": [
       "<6212x213 sparse matrix of type '<class 'numpy.float64'>'\n",
       "\twith 71235 stored elements in COOrdinate format>"
      ]
     },
     "execution_count": 76,
     "metadata": {},
     "output_type": "execute_result"
    }
   ],
   "source": [
    "df"
   ]
  },
  {
   "cell_type": "markdown",
   "metadata": {},
   "source": [
    "## Обучение модели"
   ]
  },
  {
   "cell_type": "code",
   "execution_count": 77,
   "metadata": {},
   "outputs": [
    {
     "data": {
      "text/plain": [
       "0.5108405962822667"
      ]
     },
     "execution_count": 77,
     "metadata": {},
     "output_type": "execute_result"
    }
   ],
   "source": [
    "X_train, X_test, y_train, y_test = train_test_split(df, y, test_size=0.2, random_state=42)\n",
    "model = LinearRegression()\n",
    "model.fit(X_train, y_train)\n",
    "r2_score(model.predict(X_test), y_test)"
   ]
  },
  {
   "cell_type": "code",
   "execution_count": 78,
   "metadata": {},
   "outputs": [
    {
     "data": {
      "text/plain": [
       "23258259.05447906"
      ]
     },
     "execution_count": 78,
     "metadata": {},
     "output_type": "execute_result"
    }
   ],
   "source": [
    "mean_squared_error(model.predict(X_test), y_test)"
   ]
  },
  {
   "cell_type": "code",
   "execution_count": null,
   "metadata": {},
   "outputs": [],
   "source": []
  },
  {
   "cell_type": "code",
   "execution_count": null,
   "metadata": {},
   "outputs": [],
   "source": []
  }
 ],
 "metadata": {
  "colab": {
   "collapsed_sections": [],
   "name": "final_GD_solution_ws1",
   "provenance": []
  },
  "kernelspec": {
   "display_name": "Python 3",
   "language": "python",
   "name": "python3"
  },
  "language_info": {
   "codemirror_mode": {
    "name": "ipython",
    "version": 3
   },
   "file_extension": ".py",
   "mimetype": "text/x-python",
   "name": "python",
   "nbconvert_exporter": "python",
   "pygments_lexer": "ipython3",
   "version": "3.9.6"
  }
 },
 "nbformat": 4,
 "nbformat_minor": 1
}
