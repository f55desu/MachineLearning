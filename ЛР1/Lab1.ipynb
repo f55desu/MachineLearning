{
 "cells": [
  {
   "cell_type": "code",
   "execution_count": 107,
   "metadata": {},
   "outputs": [],
   "source": [
    "import numpy as np\n",
    "import pandas as pd"
   ]
  },
  {
   "cell_type": "code",
   "execution_count": 108,
   "metadata": {},
   "outputs": [],
   "source": [
    "data = pd.read_csv('athlete_events.csv')"
   ]
  },
  {
   "cell_type": "code",
   "execution_count": 109,
   "metadata": {},
   "outputs": [
    {
     "data": {
      "text/plain": [
       "pandas.core.frame.DataFrame"
      ]
     },
     "execution_count": 109,
     "metadata": {},
     "output_type": "execute_result"
    }
   ],
   "source": [
    "type(data)"
   ]
  },
  {
   "cell_type": "code",
   "execution_count": 110,
   "metadata": {},
   "outputs": [
    {
     "name": "stdout",
     "output_type": "stream",
     "text": [
      "Женщины: 12.0, Мужчины: 11.0\n"
     ]
    }
   ],
   "source": [
    "#1\n",
    "female = data[(data['Year'] == 1992) & (data['Sex'] == 'F')]['Age'].min()\n",
    "male = data[(data['Year'] == 1992) & (data['Sex'] == 'M')]['Age'].min()\n",
    "print(f'Женщины: {female}, Мужчины: {male}')"
   ]
  },
  {
   "cell_type": "code",
   "execution_count": 121,
   "metadata": {},
   "outputs": [
    {
     "data": {
      "text/plain": [
       "0.02"
      ]
     },
     "execution_count": 121,
     "metadata": {},
     "output_type": "execute_result"
    }
   ],
   "source": [
    "#2\n",
    "basketballs = pd.unique(data[(data['Year'] == 2012) & (data['Sex'] == 'M') & (data['Sport'] == 'Basketball')]['ID']).size\n",
    "mens = pd.unique(data[(data['Year'] == 2012) & (data['Sex'] == 'M')]['ID']).size\n",
    "round(basketballs/mens , 2)"
   ]
  },
  {
   "cell_type": "code",
   "execution_count": 112,
   "metadata": {},
   "outputs": [
    {
     "name": "stdout",
     "output_type": "stream",
     "text": [
      "Средний рост: 171.8 \n",
      "Отклонение: 6.5\n"
     ]
    }
   ],
   "source": [
    "#3\n",
    "avg_height = round(data[(data['Year'] == 2000) & (data['Sex'] == 'F') & (data['Sport'] == 'Tennis')]['Height'].mean(), 1)\n",
    "all_heights = round(data[(data['Year'] == 2000) & (data['Sex'] == 'F') & (data['Sport'] == 'Tennis')]['Height'].std(), 1)\n",
    "print(f\"Средний рост: {avg_height} \\nОтклонение: {all_heights}\")"
   ]
  },
  {
   "cell_type": "code",
   "execution_count": 113,
   "metadata": {},
   "outputs": [
    {
     "data": {
      "text/plain": [
       "8102    Skeleton\n",
       "Name: Sport, dtype: object"
      ]
     },
     "execution_count": 113,
     "metadata": {},
     "output_type": "execute_result"
    }
   ],
   "source": [
    "#4\n",
    "weight = data[(data['Year'] == 2006)]['Weight'].max()\n",
    "sport = data[(data['Year'] == 2006) & (data['Weight'] == weight)]\n",
    "sport.Sport"
   ]
  },
  {
   "cell_type": "code",
   "execution_count": 114,
   "metadata": {},
   "outputs": [
    {
     "data": {
      "text/plain": [
       "2"
      ]
     },
     "execution_count": 114,
     "metadata": {},
     "output_type": "execute_result"
    }
   ],
   "source": [
    "#5\n",
    "data[(data['Name'] == 'John Aalberg')]['Year'].unique().size"
   ]
  },
  {
   "cell_type": "code",
   "execution_count": 115,
   "metadata": {},
   "outputs": [
    {
     "data": {
      "text/plain": [
       "2"
      ]
     },
     "execution_count": 115,
     "metadata": {},
     "output_type": "execute_result"
    }
   ],
   "source": [
    "#6\n",
    "data[(data['Medal'] == 'Gold') & (data['Sport'] == 'Tennis') & (data['Team'] == 'Switzerland') & (data['Year'] == 2008)]['ID'].unique().size"
   ]
  },
  {
   "cell_type": "code",
   "execution_count": 116,
   "metadata": {},
   "outputs": [
    {
     "name": "stdout",
     "output_type": "stream",
     "text": [
      "Spain: 43 and Italy: 70\n"
     ]
    }
   ],
   "source": [
    "#7\n",
    "spain = data[(data['Year'] == 2016) & (data['Team'] == 'Spain')]['Medal'].count()\n",
    "italy = data[(data['Year'] == 2016) & (data['Team'] == 'Italy')]['Medal'].count()\n",
    "print(f'Spain: {spain} and Italy: {italy}')"
   ]
  },
  {
   "cell_type": "code",
   "execution_count": 117,
   "metadata": {},
   "outputs": [
    {
     "name": "stdout",
     "output_type": "stream",
     "text": [
      "45-55: 78, 35-45: 630, 25-35: 5382, 15-25: 4786\n"
     ]
    }
   ],
   "source": [
    "#8\n",
    "firstGroup = pd.unique(data[(data['Year'] == 2008) & (data['Age'] >= 45) & (data['Age'] <= 55)]['ID']).size\n",
    "secondGroup = pd.unique(data[(data['Year'] == 2008) & (data['Age'] >= 35) & (data['Age'] < 45)]['ID']).size\n",
    "thirdGroup = pd.unique(data[(data['Year'] == 2008) & (data['Age'] >= 25) & (data['Age'] < 35)]['ID']).size\n",
    "fourthGroup = pd.unique(data[(data['Year'] == 2008) & (data['Age'] >= 15) & (data['Age'] < 25)]['ID']).size\n",
    "\n",
    "print(f'45-55: {firstGroup}, 35-45: {secondGroup}, 25-35: {thirdGroup}, 15-25: {fourthGroup}')"
   ]
  },
  {
   "cell_type": "code",
   "execution_count": 118,
   "metadata": {},
   "outputs": [
    {
     "name": "stdout",
     "output_type": "stream",
     "text": [
      "Атланта - Да\n",
      "Скво-Вэлли - Да\n"
     ]
    }
   ],
   "source": [
    "#9\n",
    "atlanta = pd.unique(data[(data['Season'] == 'Summer') & (data['City'] == 'Atlanta')]['Year']).size\n",
    "squaw = pd.unique(data[(data['Season'] == 'Winter') & (data['City'] == 'Squaw Valley')]['Year']).size\n",
    "if (atlanta != 0):\n",
    "    print(\"Атланта - Да\")\n",
    "else:\n",
    "    print(\"Атланта - Нет\")\n",
    "if (squaw != 0):\n",
    "    print(\"Скво-Вэлли - Да\")\n",
    "else:\n",
    "    print(\"Скво-Вэлли - Нет\")"
   ]
  },
  {
   "cell_type": "code",
   "execution_count": 119,
   "metadata": {},
   "outputs": [
    {
     "data": {
      "text/plain": [
       "15"
      ]
     },
     "execution_count": 119,
     "metadata": {},
     "output_type": "execute_result"
    }
   ],
   "source": [
    "#10\n",
    "games86 = data[(data['Year'] == 1986)]['Sport'].unique().size\n",
    "games2002 = data[(data['Year'] == 2002)]['Sport'].unique().size\n",
    "abs(games86 - games2002)"
   ]
  }
 ],
 "metadata": {
  "interpreter": {
   "hash": "42a1b82c9dd619d5f67f6b607d059bfb480e0294f32a1e35d09f395cc95c14c6"
  },
  "kernelspec": {
   "display_name": "Python 3.9.7 64-bit",
   "language": "python",
   "name": "python3"
  },
  "language_info": {
   "codemirror_mode": {
    "name": "ipython",
    "version": 3
   },
   "file_extension": ".py",
   "mimetype": "text/x-python",
   "name": "python",
   "nbconvert_exporter": "python",
   "pygments_lexer": "ipython3",
   "version": "3.9.7"
  },
  "orig_nbformat": 4
 },
 "nbformat": 4,
 "nbformat_minor": 2
}
