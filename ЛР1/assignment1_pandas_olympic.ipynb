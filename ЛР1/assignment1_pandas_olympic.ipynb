{
 "cells": [
  {
   "cell_type": "markdown",
   "metadata": {
    "pycharm": {
     "name": "#%% md\n"
    }
   },
   "source": [
    "# <center>Лабораторная работа #1\n",
    "## <center>Анализ данных Олимпийский игр с помощью Pandas"
   ]
  },
  {
   "cell_type": "markdown",
   "metadata": {},
   "source": [
    "### Задача\n",
    "В этом задании десять вопросов о 120-летней олимпийской истории. Ваша задача — заполнить недостающий код Python и выполнить вычисления в ячейках ниже"
   ]
  },
  {
   "cell_type": "markdown",
   "metadata": {},
   "source": [
    "Скачайте файл `athlete_events.csv`, ссылка [Здесь](https://drive.google.com/file/d/1f5v6Z2ayc7h698FG_98wP5x1Y2zZQeox/view?usp=sharing). Датасет следующие данные :\n",
    "\n",
    "- __ID__ - Уникальный номер каждого атлета\n",
    "- __Name__ - Имя атлета\n",
    "- __Sex__ - Пол('M'или 'F')\n",
    "- __Age__ - Возраст (Integer)\n",
    "- __Height__ - Рост( в сантиметрах)\n",
    "- __Weight__ - Вес(в килограммах)\n",
    "- __Team__ - Название команды\n",
    "- __NOC__ - Трехбуквенный код национального олимпийского комитета\n",
    "- __Games__ - Год и сезон\n",
    "- __Year__ - Год (Integer)\n",
    "- __Season__ - Лето или зима\n",
    "- __City__ - Принимающий город\n",
    "- __Sport__ - Название спорта\n",
    "- __Event__ - Соревнование\n",
    "- __Medal__ - Вид медали(Золото, серебро, бронза или NA)"
   ]
  },
  {
   "cell_type": "markdown",
   "metadata": {},
   "source": [
    "__1. Сколько лет было самым юным участникам Олимпийских игр 1992 года среди мужчин и женщин?__\n",
    "\n",
    "- 16 и 15\n",
    "- 14 и 13\n",
    "- 13 и 11\n",
    "- 11 и 12"
   ]
  },
  {
   "cell_type": "code",
   "execution_count": null,
   "metadata": {},
   "outputs": [],
   "source": [
    "4"
   ]
  },
  {
   "cell_type": "markdown",
   "metadata": {},
   "source": [
    "__2. Какой процент составляют баскетболисты-мужчины среди всех участников-мужчин Олимпиады-2012? Округлите ответ до первого знака после запятой..__\n",
    "\n",
    "*Подсказка:*  здесь и далее при необходимости отбрасывайте дублирующихся спортсменов, чтобы считать только уникальных.\n",
    "\n",
    "- 0.2\n",
    "- 1.5 \n",
    "- 2.5\n",
    "- 7.7"
   ]
  },
  {
   "cell_type": "code",
   "execution_count": null,
   "metadata": {},
   "outputs": [],
   "source": [
    "1"
   ]
  },
  {
   "cell_type": "markdown",
   "metadata": {},
   "source": [
    "__3. Каковы среднее значение и стандартное отклонение роста теннисисток, участвовавших в Олимпийских играх 2000 года? Округлите ответ до первого знака после запятой.__\n",
    "\n",
    "- 171.8 и 6.5\n",
    "- 179.4 и 10\n",
    "- 180.7 и 6.7\n",
    "- 182.4 и 9.1"
   ]
  },
  {
   "cell_type": "code",
   "execution_count": null,
   "metadata": {},
   "outputs": [],
   "source": [
    "1"
   ]
  },
  {
   "cell_type": "markdown",
   "metadata": {},
   "source": [
    "__4. Найдите спортсмена, участвовавшего в Олимпиаде 2006 года, с наибольшим весом среди других участников той же Олимпиады. Каким видом спорта он или она занимались?__\n",
    "\n",
    "- Judo\n",
    "- Bobsleigh \n",
    "- Skeleton\n",
    "- Boxing"
   ]
  },
  {
   "cell_type": "code",
   "execution_count": null,
   "metadata": {},
   "outputs": [],
   "source": [
    "3"
   ]
  },
  {
   "cell_type": "markdown",
   "metadata": {},
   "source": [
    "__5. Сколько раз John Aalberg участвовал в Олимпиадах, проводившихся в разные годы?__\n",
    "\n",
    "- 0\n",
    "- 1 \n",
    "- 2 \n",
    "- 3"
   ]
  },
  {
   "cell_type": "code",
   "execution_count": null,
   "metadata": {},
   "outputs": [],
   "source": [
    "3"
   ]
  },
  {
   "cell_type": "markdown",
   "metadata": {},
   "source": [
    "__6. Сколько золотых медалей в теннисе завоевали спортсмены сборной Швейцарии(Switzerland) на Олимпиаде-2008? Считайте каждую медаль от каждого спортсмена.__\n",
    "\n",
    "- 0\n",
    "- 1 \n",
    "- 2\n",
    "- 3"
   ]
  },
  {
   "cell_type": "code",
   "execution_count": null,
   "metadata": {},
   "outputs": [],
   "source": [
    "3"
   ]
  },
  {
   "cell_type": "markdown",
   "metadata": {},
   "source": [
    "__7. Правда ли, что на Олимпиаде-2016 Испания(_Spain_) завоевала меньше медалей, чем Италия(_Italy_)? Не учитывайте значения _NaN_ в столбце _Medal_ column.__\n",
    "\n",
    "- Да\n",
    "- Нет"
   ]
  },
  {
   "cell_type": "code",
   "execution_count": null,
   "metadata": {},
   "outputs": [],
   "source": [
    "1"
   ]
  },
  {
   "cell_type": "markdown",
   "metadata": {},
   "source": [
    "__8. К какой возрастной категории относилось меньше всего и больше всего участников Олимпиады-2008?__\n",
    "\n",
    "- [45-55] и [25-35) соответственно\n",
    "- [45-55] и [15-25) соответственно\n",
    "- [35-45) и [25-35) соответственно\n",
    "- [45-55] и [35-45) соответственно"
   ]
  },
  {
   "cell_type": "code",
   "execution_count": null,
   "metadata": {},
   "outputs": [],
   "source": [
    "1"
   ]
  },
  {
   "cell_type": "markdown",
   "metadata": {},
   "source": [
    "__9. Правда ли, что в Атланте(Atlanta) проводились летние Олимпийские игры? Правда ли, что в Скво-Вэлли(Squaw Valley) проходили зимние Олимпийские игры?__\n",
    "\n",
    "- Да, Да\n",
    "- Да, Нет\n",
    "- Нет, Да\n",
    "- Нет, Нет"
   ]
  },
  {
   "cell_type": "code",
   "execution_count": null,
   "metadata": {},
   "outputs": [],
   "source": [
    "1"
   ]
  },
  {
   "cell_type": "markdown",
   "metadata": {},
   "source": [
    "__10. Какова абсолютная разница между количеством уникальных видов спорта на Олимпийских играх 1986 года и Олимпийских играх 2002 года?__\n",
    "\n",
    "- 3 \n",
    "- 10\n",
    "- 15\n",
    "- 27"
   ]
  },
  {
   "cell_type": "code",
   "execution_count": null,
   "metadata": {},
   "outputs": [],
   "source": [
    "3"
   ]
  },
  {
   "cell_type": "markdown",
   "metadata": {},
   "source": []
  }
 ],
 "metadata": {
  "kernelspec": {
   "display_name": "Python 3",
   "language": "python",
   "name": "python3"
  },
  "language_info": {
   "codemirror_mode": {
    "name": "ipython",
    "version": 3
   },
   "file_extension": ".py",
   "mimetype": "text/x-python",
   "name": "python",
   "nbconvert_exporter": "python",
   "pygments_lexer": "ipython3",
   "version": "3.9.6"
  }
 },
 "nbformat": 4,
 "nbformat_minor": 2
}
